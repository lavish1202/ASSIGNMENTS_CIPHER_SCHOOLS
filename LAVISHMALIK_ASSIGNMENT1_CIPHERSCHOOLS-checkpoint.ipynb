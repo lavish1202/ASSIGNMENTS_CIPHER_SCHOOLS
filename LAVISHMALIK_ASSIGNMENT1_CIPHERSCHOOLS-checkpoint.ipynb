{
 "cells": [
  {
   "cell_type": "code",
   "execution_count": 1,
   "metadata": {},
   "outputs": [
    {
     "name": "stdout",
     "output_type": "stream",
     "text": [
      "4456845\n",
      "['4', '4', '5', '6', '8', '4', '5']\n",
      "list after sorting\n",
      "['4', '5', '6', '8']\n"
     ]
    }
   ],
   "source": [
    "#Write a program to get a user input in the form of a list data type. Return a list by removing all the duplicates.\n",
    "#Sample Input -> [4, 4, 5, 6, 8, 4, 5]\n",
    "#Output -> [4, 5, 6, 8]\n",
    "lst=list(input())\n",
    "print (lst)\n",
    "print(\"list after sorting\")\n",
    "lst=list(set(lst))\n",
    "lst.sort()\n",
    "print(lst)\n"
   ]
  },
  {
   "cell_type": "code",
   "execution_count": 2,
   "metadata": {},
   "outputs": [
    {
     "name": "stdout",
     "output_type": "stream",
     "text": [
      "5,8,9,7,8,6,45\n",
      "7\n",
      "88\n",
      "largest value :45\n",
      "smallest value:5\n"
     ]
    }
   ],
   "source": [
    "#Write a program to create a user defined tuple with ‘int’ data type and perform the following operations:\n",
    "    #Find the length of tuples\n",
    "   # Find the sum of all the elements of a tuple\n",
    "   # Find the largest and smallest elements of a tup\n",
    "n=input()\n",
    "str_list=(n.split(\",\"))\n",
    "int_list=[]\n",
    "for elements in str_list:\n",
    "    int_list.append(int(elements))\n",
    "t=tuple(int_list)\n",
    "print(len(t))\n",
    "total=sum(list(t))\n",
    "print(total)\n",
    "int_list.sort()\n",
    "t=tuple(int_list)\n",
    "print(\"largest value :\"+str(t[len(t)-1]))\n",
    "print(\"smallest value:\"+str(t[0]))\n"
   ]
  },
  {
   "cell_type": "code",
   "execution_count": 3,
   "metadata": {},
   "outputs": [
    {
     "name": "stdout",
     "output_type": "stream",
     "text": [
      "ENTER THE NO13\n",
      "enter bit1\n",
      "15\n"
     ]
    }
   ],
   "source": [
    "#Given a number and ith bit, change the ith bit of that number to 1.\n",
    "#Sample Input -> num = 13, i = 1\n",
    "#Output -> 15\n",
    "num=int(input(\"ENTER THE NO\"))\n",
    "i=int(input(\"enter bit\"))\n",
    "magical_num=(1<<i)\n",
    "output=num^magical_num\n",
    "print(output)"
   ]
  },
  {
   "cell_type": "code",
   "execution_count": 4,
   "metadata": {},
   "outputs": [
    {
     "name": "stdout",
     "output_type": "stream",
     "text": [
      "enter the number\n",
      "6\n",
      "0\n"
     ]
    }
   ],
   "source": [
    "# Given a number, print 1 if the number is odd otherwise print 0.\n",
    "list=[0,1]\n",
    "print(\"enter the number\")\n",
    "n=input()\n",
    "print(list[int(n)%2])\n"
   ]
  },
  {
   "cell_type": "code",
   "execution_count": 5,
   "metadata": {},
   "outputs": [
    {
     "name": "stdout",
     "output_type": "stream",
     "text": [
      "list before sorting : [1, 87, 300, 4, 79, 64]\n",
      "list after sorting [1, 4, 64, 79, 87, 300]\n"
     ]
    }
   ],
   "source": [
    "# Given two lists of integers A and B. Write a program to merge them into a single sorted list that contains every item from list A and B in ascending order.\n",
    "list_1=[1,87,300]\n",
    "list_2=[4,79,64]\n",
    "lst=list_1+list_2\n",
    "print(\"list before sorting :\",lst)\n",
    "lst.sort()\n",
    "print(\"list after sorting\",lst)"
   ]
  },
  {
   "cell_type": "code",
   "execution_count": 7,
   "metadata": {},
   "outputs": [
    {
     "name": "stdout",
     "output_type": "stream",
     "text": [
      "enter the name of 1 studentberlin\n",
      "enter the name of 2nd studentoslo\n",
      "enter the name of 3rd studentmoscow\n",
      "enter the name of 4th studentnairobi\n",
      "enter the marks of first student70\n",
      "enter the marks of second student0\n",
      "enter the marks of third student50\n",
      "enter the marks of fourth student100\n",
      "{'berlin': 70, 'oslo': 0, 'moscow': 50, 'nairobi': 100}\n",
      "after sorting\n",
      "[('oslo', 0), ('moscow', 50), ('berlin', 70), ('nairobi', 100)]\n"
     ]
    }
   ],
   "source": [
    "#Create a user defined dictionary to store names and marks of 5 students. Sort the dictionary according to marks and return this sorted dictionary to the user.\n",
    "#Sample Input -> {'Berlin': 70, 'Oslo':0, 'Moscow':50, 'Nairobi':100}\n",
    "#Output -> {'Oslo':0, 'Moscow':50, 'Berlin': 70, 'Nairobi':100}\n",
    "a=input(\"enter the name of 1 student\")\n",
    "b=input(\"enter the name of 2nd student\")\n",
    "c=input(\"enter the name of 3rd student\")\n",
    "d=input(\"enter the name of 4th student\")\n",
    "e=int(input(\"enter the marks of first student\"))\n",
    "f=int(input(\"enter the marks of second student\"))\n",
    "g=int(input(\"enter the marks of third student\"))\n",
    "h=int(input(\"enter the marks of fourth student\"))\n",
    "dict={a:e,b:f,c:g,d:h}\n",
    "print(dict)\n",
    "print(\"after sorting\")\n",
    "sorted_dict = sorted(dict.items(), key=lambda x: x[1])\n",
    "print(sorted_dict)"
   ]
  },
  {
   "cell_type": "code",
   "execution_count": null,
   "metadata": {},
   "outputs": [],
   "source": []
  }
 ],
 "metadata": {
  "kernelspec": {
   "display_name": "Python 3",
   "language": "python",
   "name": "python3"
  },
  "language_info": {
   "codemirror_mode": {
    "name": "ipython",
    "version": 3
   },
   "file_extension": ".py",
   "mimetype": "text/x-python",
   "name": "python",
   "nbconvert_exporter": "python",
   "pygments_lexer": "ipython3",
   "version": "3.7.6"
  }
 },
 "nbformat": 4,
 "nbformat_minor": 4
}
